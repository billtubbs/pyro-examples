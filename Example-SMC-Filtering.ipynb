{
 "cells": [
  {
   "cell_type": "markdown",
   "id": "4b3b4a8e",
   "metadata": {},
   "source": [
    "# Example: Sequential Monte Carlo Filtering"
   ]
  },
  {
   "cell_type": "markdown",
   "id": "bbb81d3b",
   "metadata": {},
   "source": [
    "This example is from the Pyro documentation:\n",
    "- https://pyro.ai/examples/smcfilter.html"
   ]
  },
  {
   "cell_type": "markdown",
   "id": "53a57eed",
   "metadata": {},
   "source": [
    "This file demonstrates how to use the SMCFilter algorithm with\n",
    "a simple model of a noisy harmonic oscillator of the form:\n",
    "\n",
    "    z[t] ~ N(A*z[t-1], B*sigma_z)\n",
    "    y[t] ~ N(z[t][0], sigma_y)\n",
    "    \n",
    "Copyright (c) 2017-2019 Uber Technologies, Inc.\n",
    "SPDX-License-Identifier: Apache-2.0"
   ]
  },
  {
   "cell_type": "code",
   "execution_count": 1,
   "id": "5751141e",
   "metadata": {},
   "outputs": [],
   "source": [
    "import torch\n",
    "\n",
    "import pyro\n",
    "import pyro.distributions as dist\n",
    "from pyro.infer import SMCFilter"
   ]
  },
  {
   "cell_type": "code",
   "execution_count": 2,
   "id": "8dc09816",
   "metadata": {},
   "outputs": [],
   "source": [
    "# Arguments - defaults\n",
    "class args:\n",
    "    pass\n",
    "\n",
    "args.num_timesteps = 500  # number of timesteps\n",
    "args.num_particles = 100  # number of particles\n",
    "args.process_noise = 1\n",
    "args.measurement_noise = 1\n",
    "args.seed = 0"
   ]
  },
  {
   "cell_type": "code",
   "execution_count": 3,
   "id": "1bd58c52",
   "metadata": {},
   "outputs": [],
   "source": [
    "class SimpleHarmonicModel:\n",
    "    def __init__(self, process_noise, measurement_noise):\n",
    "        self.A = torch.tensor([[0.0, 1.0], [-1.0, 0.0]])\n",
    "        self.B = torch.tensor([3.0, 3.0])\n",
    "        self.sigma_z = torch.tensor(process_noise)\n",
    "        self.sigma_y = torch.tensor(measurement_noise)\n",
    "\n",
    "    def init(self, state, initial):\n",
    "        self.t = 0\n",
    "        state[\"z\"] = pyro.sample(\"z_init\", dist.Delta(initial, event_dim=1))\n",
    "\n",
    "    def step(self, state, y=None):\n",
    "        self.t += 1\n",
    "        state[\"z\"] = pyro.sample(\n",
    "            \"z_{}\".format(self.t),\n",
    "            dist.Normal(state[\"z\"].matmul(self.A), self.B * self.sigma_z).to_event(1),\n",
    "        )\n",
    "        y = pyro.sample(\n",
    "            \"y_{}\".format(self.t), dist.Normal(state[\"z\"][..., 0], self.sigma_y), obs=y\n",
    "        )\n",
    "        return state[\"z\"], y\n",
    "\n",
    "\n",
    "class SimpleHarmonicModel_Guide:\n",
    "    def __init__(self, model):\n",
    "        self.model = model\n",
    "\n",
    "    def init(self, state, initial):\n",
    "        self.t = 0\n",
    "        pyro.sample(\"z_init\", dist.Delta(initial, event_dim=1))\n",
    "\n",
    "    def step(self, state, y=None):\n",
    "        self.t += 1\n",
    "\n",
    "        # Proposal distribution\n",
    "        pyro.sample(\n",
    "            \"z_{}\".format(self.t),\n",
    "            dist.Normal(\n",
    "                state[\"z\"].matmul(self.model.A), torch.tensor([1.0, 1.0])\n",
    "            ).to_event(1),\n",
    "        )\n"
   ]
  },
  {
   "cell_type": "code",
   "execution_count": 4,
   "id": "0a6fc30e",
   "metadata": {},
   "outputs": [],
   "source": [
    "def generate_data(args):\n",
    "    model = SimpleHarmonicModel(args.process_noise, args.measurement_noise)\n",
    "\n",
    "    state = {}\n",
    "    initial = torch.tensor([1.0, 0.0])\n",
    "    model.init(state, initial=initial)\n",
    "    zs = [initial]\n",
    "    ys = [None]\n",
    "    for t in range(args.num_timesteps):\n",
    "        z, y = model.step(state)\n",
    "        zs.append(z)\n",
    "        ys.append(y)\n",
    "\n",
    "    return zs, ys"
   ]
  },
  {
   "cell_type": "code",
   "execution_count": 7,
   "id": "8e8d10a9",
   "metadata": {},
   "outputs": [
    {
     "name": "stdout",
     "output_type": "stream",
     "text": [
      "Generating data\n",
      "Filtering\n",
      "At final time step:\n",
      "truth: tensor([ 0.0809, 67.0811])\n",
      "mean: tensor([-1.1345, 65.9661])\n",
      "std: tensor([0.8514, 1.6066])\n"
     ]
    }
   ],
   "source": [
    "pyro.set_rng_seed(args.seed)\n",
    "\n",
    "model = SimpleHarmonicModel(args.process_noise, args.measurement_noise)\n",
    "guide = SimpleHarmonicModel_Guide(model)\n",
    "\n",
    "smc = SMCFilter(model, guide, num_particles=args.num_particles, max_plate_nesting=0)\n",
    "\n",
    "print(\"Generating data\")\n",
    "zs, ys = generate_data(args)\n",
    "\n",
    "print(\"Filtering\")\n",
    "\n",
    "smc.init(initial=torch.tensor([1.0, 0.0]))\n",
    "for y in ys[1:]:\n",
    "    smc.step(y)\n",
    "\n",
    "z = smc.get_empirical()[\"z\"]\n",
    "\n",
    "print(\"At final time step:\")\n",
    "print(f\"truth: {zs[-1]}\")\n",
    "print(f\"mean: {z.mean}\")\n",
    "print(f\"std: {z.variance**0.5}\")"
   ]
  },
  {
   "cell_type": "code",
   "execution_count": null,
   "id": "fbe53b58",
   "metadata": {},
   "outputs": [],
   "source": []
  },
  {
   "cell_type": "code",
   "execution_count": null,
   "id": "576d8da2",
   "metadata": {},
   "outputs": [],
   "source": []
  }
 ],
 "metadata": {
  "kernelspec": {
   "display_name": "Python [conda env:torch]",
   "language": "python",
   "name": "conda-env-torch-py"
  },
  "language_info": {
   "codemirror_mode": {
    "name": "ipython",
    "version": 3
   },
   "file_extension": ".py",
   "mimetype": "text/x-python",
   "name": "python",
   "nbconvert_exporter": "python",
   "pygments_lexer": "ipython3",
   "version": "3.9.12"
  }
 },
 "nbformat": 4,
 "nbformat_minor": 5
}
