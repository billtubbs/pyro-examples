{
 "cells": [
  {
   "cell_type": "markdown",
   "id": "75ff11c9",
   "metadata": {},
   "source": [
    "# Example: Sequential Monte Carlo Filtering"
   ]
  },
  {
   "cell_type": "markdown",
   "id": "d2d0ef6e",
   "metadata": {},
   "source": [
    "This example is from the Pyro documentation:\n",
    "- https://pyro.ai/examples/smcfilter.html\n",
    "\n",
    "Copyright (c) 2017-2019 Uber Technologies, Inc.\n",
    "SPDX-License-Identifier: Apache-2.0"
   ]
  },
  {
   "cell_type": "markdown",
   "id": "3a70f9cd",
   "metadata": {},
   "source": [
    "This file demonstrates how to use the SMCFilter algorithm with\n",
    "a simple model of a noisy harmonic oscillator of the form:\n",
    "\n",
    "    z[t] ~ N(A*z[t-1], B*sigma_z)\n",
    "    y[t] ~ N(z[t][0], sigma_y)\n",
    "    "
   ]
  },
  {
   "cell_type": "code",
   "execution_count": 7,
   "id": "14d7fb27",
   "metadata": {},
   "outputs": [],
   "source": [
    "import numpy as np\n",
    "import matplotlib.pyplot as plt\n",
    "import torch\n",
    "\n",
    "import pyro\n",
    "import pyro.distributions as dist\n",
    "from pyro.infer import SMCFilter\n",
    "from control import StateSpace, step_response, InputOutputSystem"
   ]
  },
  {
   "cell_type": "code",
   "execution_count": 8,
   "id": "97697f95",
   "metadata": {},
   "outputs": [],
   "source": [
    "# Arguments - defaults\n",
    "class args:\n",
    "    pass\n",
    "\n",
    "args.num_timesteps = 500  # number of timesteps\n",
    "args.num_particles = 100  # number of particles\n",
    "args.process_noise = 1\n",
    "args.measurement_noise = 1\n",
    "args.seed = 0"
   ]
  },
  {
   "cell_type": "code",
   "execution_count": 9,
   "id": "4eaffa85",
   "metadata": {},
   "outputs": [
    {
     "data": {
      "text/latex": [
       "\\[\n",
       "\\left(\\begin{array}{rllrll|rll}\n",
       "0\\phantom{.}&\\hspace{-1em}&\\hspace{-1em}\\phantom{\\cdot}&1\\phantom{.}&\\hspace{-1em}&\\hspace{-1em}\\phantom{\\cdot}&3\\phantom{.}&\\hspace{-1em}&\\hspace{-1em}\\phantom{\\cdot}\\\\\n",
       "-1\\phantom{.}&\\hspace{-1em}&\\hspace{-1em}\\phantom{\\cdot}&0\\phantom{.}&\\hspace{-1em}&\\hspace{-1em}\\phantom{\\cdot}&3\\phantom{.}&\\hspace{-1em}&\\hspace{-1em}\\phantom{\\cdot}\\\\\n",
       "\\hline\n",
       "1\\phantom{.}&\\hspace{-1em}&\\hspace{-1em}\\phantom{\\cdot}&0\\phantom{.}&\\hspace{-1em}&\\hspace{-1em}\\phantom{\\cdot}&0\\phantom{.}&\\hspace{-1em}&\\hspace{-1em}\\phantom{\\cdot}\\\\\n",
       "\\end{array}\\right)~,~dt=1\n",
       "\\]"
      ],
      "text/plain": [
       "StateSpace(array([[ 0.,  1.],\n",
       "       [-1.,  0.]]), array([[3.],\n",
       "       [3.]]), array([[1., 0.]]), array([[0.]]), 1)"
      ]
     },
     "execution_count": 9,
     "metadata": {},
     "output_type": "execute_result"
    }
   ],
   "source": [
    "# Demonstrate model\n",
    "A = [[0.0, 1.0], [-1.0, 0.0]]\n",
    "B = [[3.0], [3.0]]\n",
    "C = [[1.0, 0]]\n",
    "D = 0\n",
    "Ts = 1\n",
    "sys = StateSpace(A, B, C, D, Ts)\n",
    "sys"
   ]
  },
  {
   "cell_type": "code",
   "execution_count": 10,
   "id": "b9fcd176",
   "metadata": {
    "scrolled": true
   },
   "outputs": [
    {
     "data": {
      "image/png": "[encoded data removed]",
      "text/plain": [
       "<Figure size 576x216 with 1 Axes>"
      ]
     },
     "metadata": {
      "needs_background": "light"
     },
     "output_type": "display_data"
    }
   ],
   "source": [
    "r_step = step_response(sys)\n",
    "plt.figure(figsize=(8,3))\n",
    "plt.plot(r_step.t, r_step.y[0,0])\n",
    "plt.grid()\n",
    "plt.show()"
   ]
  },
  {
   "cell_type": "raw",
   "id": "be16d84e",
   "metadata": {},
   "source": [
    "p = np.random.normal(size=r_step.t.shape[0])\n",
    "r = input_output_response(sys, r_step.t, p)\n",
    "plt.figure(figsize=(8,3))\n",
    "plt.plot(r.t, r.y[0,0])\n",
    "plt.grid()\n",
    "plt.show()"
   ]
  },
  {
   "cell_type": "code",
   "execution_count": 11,
   "id": "41461995",
   "metadata": {},
   "outputs": [],
   "source": [
    "class SimpleHarmonicModel:\n",
    "    def __init__(self, process_noise, measurement_noise):\n",
    "        self.A = torch.tensor([[0.0, 1.0], [-1.0, 0.0]])\n",
    "        self.B = torch.tensor([3.0, 3.0])\n",
    "        self.sigma_z = torch.tensor(process_noise)\n",
    "        self.sigma_y = torch.tensor(measurement_noise)\n",
    "\n",
    "    def init(self, state, initial):\n",
    "        self.t = 0\n",
    "        state[\"z\"] = pyro.sample(\"z_init\", dist.Delta(initial, event_dim=1))\n",
    "\n",
    "    def step(self, state, y=None):\n",
    "        self.t += 1\n",
    "        state[\"z\"] = pyro.sample(\n",
    "            \"z_{}\".format(self.t),\n",
    "            dist.Normal(state[\"z\"].matmul(self.A), self.B * self.sigma_z).to_event(1),\n",
    "        )\n",
    "        y = pyro.sample(\n",
    "            \"y_{}\".format(self.t), dist.Normal(state[\"z\"][..., 0], self.sigma_y), obs=y\n",
    "        )\n",
    "        return state[\"z\"], y\n",
    "\n",
    "\n",
    "class SimpleHarmonicModel_Guide:\n",
    "    def __init__(self, model):\n",
    "        self.model = model\n",
    "\n",
    "    def init(self, state, initial):\n",
    "        self.t = 0\n",
    "        pyro.sample(\"z_init\", dist.Delta(initial, event_dim=1))\n",
    "\n",
    "    def step(self, state, y=None):\n",
    "        self.t += 1\n",
    "\n",
    "        # Proposal distribution\n",
    "        pyro.sample(\n",
    "            \"z_{}\".format(self.t),\n",
    "            dist.Normal(\n",
    "                state[\"z\"].matmul(self.model.A), torch.tensor([1.0, 1.0])\n",
    "            ).to_event(1),\n",
    "        )\n"
   ]
  },
  {
   "cell_type": "code",
   "execution_count": 12,
   "id": "2b57ee7b",
   "metadata": {},
   "outputs": [],
   "source": [
    "def generate_data(args):\n",
    "    model = SimpleHarmonicModel(args.process_noise, args.measurement_noise)\n",
    "\n",
    "    state = {}\n",
    "    initial = torch.tensor([1.0, 0.0])\n",
    "    model.init(state, initial=initial)\n",
    "    zs = [initial]\n",
    "    ys = [None]\n",
    "    for t in range(args.num_timesteps):\n",
    "        z, y = model.step(state)\n",
    "        zs.append(z)\n",
    "        ys.append(y)\n",
    "\n",
    "    return zs, ys"
   ]
  },
  {
   "cell_type": "code",
   "execution_count": 13,
   "id": "e4f109ee",
   "metadata": {},
   "outputs": [
    {
     "name": "stdout",
     "output_type": "stream",
     "text": [
      "Generating data\n",
      "Filtering\n",
      "At final time step:\n",
      "truth: tensor([ 0.0809, 67.0811])\n",
      "mean: tensor([-1.1345, 65.9661])\n",
      "std: tensor([0.8514, 1.6066])\n"
     ]
    }
   ],
   "source": [
    "pyro.set_rng_seed(args.seed)\n",
    "\n",
    "model = SimpleHarmonicModel(args.process_noise, args.measurement_noise)\n",
    "guide = SimpleHarmonicModel_Guide(model)\n",
    "\n",
    "smc = SMCFilter(model, guide, num_particles=args.num_particles, max_plate_nesting=0)\n",
    "\n",
    "print(\"Generating data\")\n",
    "zs, ys = generate_data(args)\n",
    "\n",
    "print(\"Filtering\")\n",
    "\n",
    "smc.init(initial=torch.tensor([1.0, 0.0]))\n",
    "for y in ys[1:]:\n",
    "    smc.step(y)\n",
    "\n",
    "z = smc.get_empirical()[\"z\"]\n",
    "\n",
    "print(\"At final time step:\")\n",
    "print(f\"truth: {zs[-1]}\")\n",
    "print(f\"mean: {z.mean}\")\n",
    "print(f\"std: {z.variance**0.5}\")"
   ]
  },
  {
   "cell_type": "markdown",
   "id": "720560ae",
   "metadata": {},
   "source": [
    "## RODD disturbance"
   ]
  },
  {
   "cell_type": "code",
   "execution_count": 14,
   "id": "93e28b96",
   "metadata": {},
   "outputs": [],
   "source": [
    "class Model:\n",
    "    def __init__(self, sigma_wp, measurement_noise):\n",
    "        self.A = torch.tensor([[0.7, 1.0], [0.0, 1.0]])\n",
    "        self.B = torch.tensor([[0], [1]])\n",
    "        self.C = torch.tensor([0.3, 0.0])\n",
    "        self.b = 100\n",
    "        self.sigma_wp = torch.tensor([sigma_wp**2, (self.b * sigma_wp)**2])\n",
    "        self.epsilon = 0.01\n",
    "        self.sigma_y = torch.tensor(measurement_noise)\n",
    "\n",
    "    def init(self, state, initial):\n",
    "        self.t = 0\n",
    "        state[\"z\"] = pyro.sample(\"z_init\", dist.Delta(initial, event_dim=1))\n",
    "\n",
    "    def step(self, state, y=None):\n",
    "        self.t += 1\n",
    "        wp_dist = dist.Normal(torch.tensor([0.0]), self.sigma_wp[alpha])\n",
    "        measurement = pyro.sample('obs', wp_dist)\n",
    "        state[\"z\"] = pyro.sample(\n",
    "            \"z_{}\".format(self.t),\n",
    "            dist.Normal(state[\"z\"].matmul(self.A), self.B * self.sigma_z).to_event(1),\n",
    "        )\n",
    "        y = pyro.sample(\n",
    "            \"y_{}\".format(self.t), dist.Normal(state[\"z\"][..., 0], self.sigma_y), obs=y\n",
    "        )\n",
    "        return state[\"z\"], y\n",
    "\n",
    "\n",
    "class Guide:\n",
    "    def __init__(self, model):\n",
    "        self.model = model\n",
    "\n",
    "    def init(self, state, initial):\n",
    "        self.t = 0\n",
    "        pyro.sample(\"z_init\", dist.Delta(initial, event_dim=1))\n",
    "\n",
    "    def step(self, state, y=None):\n",
    "        self.t += 1\n",
    "\n",
    "        # Proposal distribution\n",
    "        pyro.sample(\n",
    "            \"z_{}\".format(self.t),\n",
    "            dist.Normal(\n",
    "                state[\"z\"].matmul(self.model.A), torch.tensor([1.0, 1.0])\n",
    "            ).to_event(1),\n",
    "        )\n",
    "\n"
   ]
  },
  {
   "cell_type": "code",
   "execution_count": 15,
   "id": "30585681",
   "metadata": {},
   "outputs": [
    {
     "name": "stdout",
     "output_type": "stream",
     "text": [
      "Help on function to_event in module pyro.distributions.torch_distribution:\n",
      "\n",
      "to_event(self, reinterpreted_batch_ndims=None)\n",
      "    Reinterprets the ``n`` rightmost dimensions of this distributions\n",
      "    :attr:`~torch.distributions.distribution.Distribution.batch_shape`\n",
      "    as event dims, adding them to the left side of\n",
      "    :attr:`~torch.distributions.distribution.Distribution.event_shape`.\n",
      "    \n",
      "    Example:\n",
      "    \n",
      "        .. doctest::\n",
      "           :hide:\n",
      "    \n",
      "           >>> d0 = dist.Normal(torch.zeros(2, 3, 4, 5), torch.ones(2, 3, 4, 5))\n",
      "           >>> [d0.batch_shape, d0.event_shape]\n",
      "           [torch.Size([2, 3, 4, 5]), torch.Size([])]\n",
      "           >>> d1 = d0.to_event(2)\n",
      "    \n",
      "        >>> [d1.batch_shape, d1.event_shape]\n",
      "        [torch.Size([2, 3]), torch.Size([4, 5])]\n",
      "        >>> d2 = d1.to_event(1)\n",
      "        >>> [d2.batch_shape, d2.event_shape]\n",
      "        [torch.Size([2]), torch.Size([3, 4, 5])]\n",
      "        >>> d3 = d1.to_event(2)\n",
      "        >>> [d3.batch_shape, d3.event_shape]\n",
      "        [torch.Size([]), torch.Size([2, 3, 4, 5])]\n",
      "    \n",
      "    :param int reinterpreted_batch_ndims: The number of batch dimensions to\n",
      "        reinterpret as event dimensions. May be negative to remove\n",
      "        dimensions from an :class:`pyro.distributions.torch.Independent` .\n",
      "        If None, convert all dimensions to event dimensions.\n",
      "    :return: A reshaped version of this distribution.\n",
      "    :rtype: :class:`pyro.distributions.torch.Independent`\n",
      "\n"
     ]
    }
   ],
   "source": [
    "help(dist.Binomial.to_event)"
   ]
  },
  {
   "cell_type": "code",
   "execution_count": null,
   "id": "a23d61f4",
   "metadata": {},
   "outputs": [],
   "source": []
  }
 ],
 "metadata": {
  "kernelspec": {
   "display_name": "Python [conda env:torch]",
   "language": "python",
   "name": "conda-env-torch-py"
  },
  "language_info": {
   "codemirror_mode": {
    "name": "ipython",
    "version": 3
   },
   "file_extension": ".py",
   "mimetype": "text/x-python",
   "name": "python",
   "nbconvert_exporter": "python",
   "pygments_lexer": "ipython3",
   "version": "3.9.12"
  }
 },
 "nbformat": 4,
 "nbformat_minor": 5
}
